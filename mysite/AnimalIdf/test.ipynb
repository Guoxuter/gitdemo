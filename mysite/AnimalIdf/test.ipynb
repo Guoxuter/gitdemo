{
 "metadata": {
  "language_info": {
   "codemirror_mode": {
    "name": "ipython",
    "version": 3
   },
   "file_extension": ".py",
   "mimetype": "text/x-python",
   "name": "python",
   "nbconvert_exporter": "python",
   "pygments_lexer": "ipython3",
   "version": "3.7.0-final"
  },
  "orig_nbformat": 2,
  "kernelspec": {
   "name": "python370jvsc74a57bd05f64f01a6cdb813bd23f3c2980301e513b65108ef9650403b1a46775be8a9390",
   "display_name": "Python 3.7.0 64-bit (conda)"
  }
 },
 "nbformat": 4,
 "nbformat_minor": 2,
 "cells": [
  {
   "cell_type": "code",
   "execution_count": 1,
   "metadata": {},
   "outputs": [],
   "source": [
    "import re\n",
    "\n",
    "sentence='features:canine teeth,paws,binocular vision, yellowish brown, black stripe\\nlabels:mammal, carnivore'"
   ]
  },
  {
   "cell_type": "code",
   "execution_count": 25,
   "metadata": {},
   "outputs": [],
   "source": [
    "fp = re.compile(r'features:(.*)\\n')\n",
    "lp = re.compile(r'labels:(.*)')\n",
    "f=fp.findall(sentence)[0].split(',')\n",
    "l=lp.findall(sentence)[0].split(',')"
   ]
  },
  {
   "cell_type": "code",
   "execution_count": 29,
   "metadata": {},
   "outputs": [
    {
     "output_type": "execute_result",
     "data": {
      "text/plain": [
       "['canine teeth',\n",
       " 'paws',\n",
       " 'binocular vision',\n",
       " ' yellowish brown',\n",
       " ' black stripe']"
      ]
     },
     "metadata": {},
     "execution_count": 29
    }
   ],
   "source": [
    "for i in f:\n",
    "    i.strip(' ')\n",
    "f"
   ]
  },
  {
   "cell_type": "code",
   "execution_count": 27,
   "metadata": {},
   "outputs": [
    {
     "output_type": "stream",
     "name": "stdout",
     "text": [
      "['mammal', ' carnivore']\n"
     ]
    }
   ],
   "source": [
    "print(l)"
   ]
  },
  {
   "cell_type": "code",
   "execution_count": 1,
   "metadata": {},
   "outputs": [
    {
     "output_type": "execute_result",
     "data": {
      "text/plain": [
       "'111'"
      ]
     },
     "metadata": {},
     "execution_count": 1
    }
   ],
   "source": [
    "a='111\\r'\n",
    "b=a.replace('\\r','')\n",
    "b"
   ]
  }
 ]
}